{
 "cells": [
  {
   "cell_type": "code",
   "execution_count": 1,
   "id": "2f020d18-0f77-49fc-9eac-0cb69214a93d",
   "metadata": {},
   "outputs": [],
   "source": [
    "import pandas as pd\n",
    "\n",
    "df = pd.read_csv('Uber Request Data8.csv')"
   ]
  },
  {
   "cell_type": "code",
   "execution_count": 2,
   "id": "87df0d6e-4f36-45bd-a3fd-b39af08fa5ed",
   "metadata": {},
   "outputs": [
    {
     "name": "stdout",
     "output_type": "stream",
     "text": [
      "   Request id Pickup point  Driver id          Status Request timestamp  \\\n",
      "0         619      Airport        1.0  Trip Completed  11-07-2016 11:51   \n",
      "1         867      Airport        1.0  Trip Completed  11-07-2016 17:57   \n",
      "2        1807         City        1.0  Trip Completed  12-07-2016 09:17   \n",
      "3        2532      Airport        1.0  Trip Completed  12-07-2016 21:08   \n",
      "4        3112         City        1.0  Trip Completed  13-07-2016 08:33   \n",
      "\n",
      "     Drop timestamp  \n",
      "0  11-07-2016 13:00  \n",
      "1  11-07-2016 18:47  \n",
      "2  12-07-2016 09:58  \n",
      "3  12-07-2016 22:03  \n",
      "4  13-07-2016 09:25  \n"
     ]
    }
   ],
   "source": [
    "print(df.head())"
   ]
  },
  {
   "cell_type": "code",
   "execution_count": 3,
   "id": "895b5167-20dd-4575-aa43-1495e15e5a80",
   "metadata": {},
   "outputs": [
    {
     "name": "stdout",
     "output_type": "stream",
     "text": [
      "      Request id Pickup point  Driver id             Status Request timestamp  \\\n",
      "6740        6745         City        NaN  No Cars Available  15-07-2016 23:49   \n",
      "6741        6752      Airport        NaN  No Cars Available  15-07-2016 23:50   \n",
      "6742        6751         City        NaN  No Cars Available  15-07-2016 23:52   \n",
      "6743        6754         City        NaN  No Cars Available  15-07-2016 23:54   \n",
      "6744        6753      Airport        NaN  No Cars Available  15-07-2016 23:55   \n",
      "\n",
      "     Drop timestamp  \n",
      "6740            NaN  \n",
      "6741            NaN  \n",
      "6742            NaN  \n",
      "6743            NaN  \n",
      "6744            NaN  \n"
     ]
    }
   ],
   "source": [
    "print(df.tail())"
   ]
  },
  {
   "cell_type": "code",
   "execution_count": 4,
   "id": "45aa379e-f6d5-47d4-8686-5344cbb1e1c4",
   "metadata": {},
   "outputs": [
    {
     "name": "stdout",
     "output_type": "stream",
     "text": [
      "<class 'pandas.core.frame.DataFrame'>\n",
      "RangeIndex: 6745 entries, 0 to 6744\n",
      "Data columns (total 6 columns):\n",
      " #   Column             Non-Null Count  Dtype  \n",
      "---  ------             --------------  -----  \n",
      " 0   Request id         6745 non-null   int64  \n",
      " 1   Pickup point       6745 non-null   object \n",
      " 2   Driver id          4095 non-null   float64\n",
      " 3   Status             6745 non-null   object \n",
      " 4   Request timestamp  6745 non-null   object \n",
      " 5   Drop timestamp     2831 non-null   object \n",
      "dtypes: float64(1), int64(1), object(4)\n",
      "memory usage: 316.3+ KB\n",
      "None\n"
     ]
    }
   ],
   "source": [
    "print(df.info())"
   ]
  },
  {
   "cell_type": "code",
   "execution_count": 5,
   "id": "6bb19c5c-d453-4cde-a807-69453fcd95fe",
   "metadata": {},
   "outputs": [
    {
     "data": {
      "text/plain": [
       "(6745, 6)"
      ]
     },
     "execution_count": 5,
     "metadata": {},
     "output_type": "execute_result"
    }
   ],
   "source": [
    "df.shape"
   ]
  },
  {
   "cell_type": "code",
   "execution_count": 6,
   "id": "2ffe10fe-522d-4f90-885d-2a3183a4408d",
   "metadata": {},
   "outputs": [
    {
     "data": {
      "text/plain": [
       "Index(['Request id', 'Pickup point', 'Driver id', 'Status',\n",
       "       'Request timestamp', 'Drop timestamp'],\n",
       "      dtype='object')"
      ]
     },
     "execution_count": 6,
     "metadata": {},
     "output_type": "execute_result"
    }
   ],
   "source": [
    "df.columns"
   ]
  },
  {
   "cell_type": "code",
   "execution_count": 7,
   "id": "7e6c1a56-798d-4d5e-bc80-2d1bd7d15bf0",
   "metadata": {},
   "outputs": [
    {
     "data": {
      "text/html": [
       "<div>\n",
       "<style scoped>\n",
       "    .dataframe tbody tr th:only-of-type {\n",
       "        vertical-align: middle;\n",
       "    }\n",
       "\n",
       "    .dataframe tbody tr th {\n",
       "        vertical-align: top;\n",
       "    }\n",
       "\n",
       "    .dataframe thead th {\n",
       "        text-align: right;\n",
       "    }\n",
       "</style>\n",
       "<table border=\"1\" class=\"dataframe\">\n",
       "  <thead>\n",
       "    <tr style=\"text-align: right;\">\n",
       "      <th></th>\n",
       "      <th>Request id</th>\n",
       "      <th>Driver id</th>\n",
       "    </tr>\n",
       "  </thead>\n",
       "  <tbody>\n",
       "    <tr>\n",
       "      <th>count</th>\n",
       "      <td>6745.000000</td>\n",
       "      <td>4095.000000</td>\n",
       "    </tr>\n",
       "    <tr>\n",
       "      <th>mean</th>\n",
       "      <td>3384.644922</td>\n",
       "      <td>149.501343</td>\n",
       "    </tr>\n",
       "    <tr>\n",
       "      <th>std</th>\n",
       "      <td>1955.099667</td>\n",
       "      <td>86.051994</td>\n",
       "    </tr>\n",
       "    <tr>\n",
       "      <th>min</th>\n",
       "      <td>1.000000</td>\n",
       "      <td>1.000000</td>\n",
       "    </tr>\n",
       "    <tr>\n",
       "      <th>25%</th>\n",
       "      <td>1691.000000</td>\n",
       "      <td>75.000000</td>\n",
       "    </tr>\n",
       "    <tr>\n",
       "      <th>50%</th>\n",
       "      <td>3387.000000</td>\n",
       "      <td>149.000000</td>\n",
       "    </tr>\n",
       "    <tr>\n",
       "      <th>75%</th>\n",
       "      <td>5080.000000</td>\n",
       "      <td>224.000000</td>\n",
       "    </tr>\n",
       "    <tr>\n",
       "      <th>max</th>\n",
       "      <td>6766.000000</td>\n",
       "      <td>300.000000</td>\n",
       "    </tr>\n",
       "  </tbody>\n",
       "</table>\n",
       "</div>"
      ],
      "text/plain": [
       "        Request id    Driver id\n",
       "count  6745.000000  4095.000000\n",
       "mean   3384.644922   149.501343\n",
       "std    1955.099667    86.051994\n",
       "min       1.000000     1.000000\n",
       "25%    1691.000000    75.000000\n",
       "50%    3387.000000   149.000000\n",
       "75%    5080.000000   224.000000\n",
       "max    6766.000000   300.000000"
      ]
     },
     "execution_count": 7,
     "metadata": {},
     "output_type": "execute_result"
    }
   ],
   "source": [
    "df.describe()"
   ]
  },
  {
   "cell_type": "code",
   "execution_count": 8,
   "id": "60591ae6-e488-47e5-8e82-751ac8216d74",
   "metadata": {},
   "outputs": [
    {
     "data": {
      "text/html": [
       "<div>\n",
       "<style scoped>\n",
       "    .dataframe tbody tr th:only-of-type {\n",
       "        vertical-align: middle;\n",
       "    }\n",
       "\n",
       "    .dataframe tbody tr th {\n",
       "        vertical-align: top;\n",
       "    }\n",
       "\n",
       "    .dataframe thead th {\n",
       "        text-align: right;\n",
       "    }\n",
       "</style>\n",
       "<table border=\"1\" class=\"dataframe\">\n",
       "  <thead>\n",
       "    <tr style=\"text-align: right;\">\n",
       "      <th></th>\n",
       "      <th>Pickup point</th>\n",
       "      <th>Status</th>\n",
       "      <th>Request timestamp</th>\n",
       "      <th>Drop timestamp</th>\n",
       "    </tr>\n",
       "  </thead>\n",
       "  <tbody>\n",
       "    <tr>\n",
       "      <th>count</th>\n",
       "      <td>6745</td>\n",
       "      <td>6745</td>\n",
       "      <td>6745</td>\n",
       "      <td>2831</td>\n",
       "    </tr>\n",
       "    <tr>\n",
       "      <th>unique</th>\n",
       "      <td>2</td>\n",
       "      <td>3</td>\n",
       "      <td>4016</td>\n",
       "      <td>2282</td>\n",
       "    </tr>\n",
       "    <tr>\n",
       "      <th>top</th>\n",
       "      <td>City</td>\n",
       "      <td>Trip Completed</td>\n",
       "      <td>15-07-2016 19:19</td>\n",
       "      <td>13-07-2016 08:53</td>\n",
       "    </tr>\n",
       "    <tr>\n",
       "      <th>freq</th>\n",
       "      <td>3507</td>\n",
       "      <td>2831</td>\n",
       "      <td>8</td>\n",
       "      <td>5</td>\n",
       "    </tr>\n",
       "  </tbody>\n",
       "</table>\n",
       "</div>"
      ],
      "text/plain": [
       "       Pickup point          Status Request timestamp    Drop timestamp\n",
       "count          6745            6745              6745              2831\n",
       "unique            2               3              4016              2282\n",
       "top            City  Trip Completed  15-07-2016 19:19  13-07-2016 08:53\n",
       "freq           3507            2831                 8                 5"
      ]
     },
     "execution_count": 8,
     "metadata": {},
     "output_type": "execute_result"
    }
   ],
   "source": [
    "df.describe(include='object')"
   ]
  },
  {
   "cell_type": "code",
   "execution_count": 9,
   "id": "8c58ec39-18e2-4b2b-99f4-4e92ffb206f5",
   "metadata": {},
   "outputs": [
    {
     "data": {
      "text/plain": [
       "Request id              0\n",
       "Pickup point            0\n",
       "Driver id            2650\n",
       "Status                  0\n",
       "Request timestamp       0\n",
       "Drop timestamp       3914\n",
       "dtype: int64"
      ]
     },
     "execution_count": 9,
     "metadata": {},
     "output_type": "execute_result"
    }
   ],
   "source": [
    "df.isnull().sum()"
   ]
  },
  {
   "cell_type": "code",
   "execution_count": 10,
   "id": "3667883a-04b5-41d8-9656-ec0d80dd09de",
   "metadata": {},
   "outputs": [
    {
     "data": {
      "text/plain": [
       "Request id           6745\n",
       "Pickup point            2\n",
       "Driver id             300\n",
       "Status                  3\n",
       "Request timestamp    4016\n",
       "Drop timestamp       2282\n",
       "dtype: int64"
      ]
     },
     "execution_count": 10,
     "metadata": {},
     "output_type": "execute_result"
    }
   ],
   "source": [
    "df.nunique()"
   ]
  },
  {
   "cell_type": "code",
   "execution_count": 11,
   "id": "5c6aeab4-2da1-4b7d-94c7-85b4bc6889ad",
   "metadata": {},
   "outputs": [
    {
     "data": {
      "text/plain": [
       "array(['Airport', 'City'], dtype=object)"
      ]
     },
     "execution_count": 11,
     "metadata": {},
     "output_type": "execute_result"
    }
   ],
   "source": [
    "df['Pickup point'].unique()"
   ]
  },
  {
   "cell_type": "code",
   "execution_count": 12,
   "id": "dc9609fa-4e58-47ec-a942-4cbc0e01c6f5",
   "metadata": {},
   "outputs": [
    {
     "data": {
      "text/plain": [
       "array(['Trip Completed', 'Cancelled', 'No Cars Available'], dtype=object)"
      ]
     },
     "execution_count": 12,
     "metadata": {},
     "output_type": "execute_result"
    }
   ],
   "source": [
    "df['Status'].unique()"
   ]
  },
  {
   "cell_type": "code",
   "execution_count": 13,
   "id": "bdf7aa83-984f-4bcf-83fb-5795c9aaa349",
   "metadata": {},
   "outputs": [
    {
     "name": "stdout",
     "output_type": "stream",
     "text": [
      "Pickup point\n",
      "City       3507\n",
      "Airport    3238\n",
      "Name: count, dtype: int64\n",
      "Status\n",
      "Trip Completed       2831\n",
      "No Cars Available    2650\n",
      "Cancelled            1264\n",
      "Name: count, dtype: int64\n"
     ]
    }
   ],
   "source": [
    "a= df['Pickup point'].value_counts()\n",
    "b= df['Status'].value_counts()\n",
    "print(a)\n",
    "print(b)"
   ]
  },
  {
   "cell_type": "code",
   "execution_count": 15,
   "id": "50496836-e1bf-49c7-996f-323415418a83",
   "metadata": {},
   "outputs": [],
   "source": [
    "#Convert timestamps to datetime\n",
    "df['Request timestamp'] = pd.to_datetime(df['Request timestamp'],errors='coerce')\n",
    "df['Drop timestamp'] = pd.to_datetime(df['Drop timestamp'],errors='coerce')\n",
    "# Extract Date, Request Time, and Drop Time\n",
    "df['Date'] = df['Request timestamp'].dt.date\n",
    "df['Request Time'] = df['Request timestamp'].dt.time\n",
    "df['Drop Time'] = df['Drop timestamp'].dt.time"
   ]
  },
  {
   "cell_type": "code",
   "execution_count": 16,
   "id": "9566bbce-7a5a-4a44-95cc-0f0bac9269a0",
   "metadata": {},
   "outputs": [
    {
     "name": "stdout",
     "output_type": "stream",
     "text": [
      "<class 'pandas.core.frame.DataFrame'>\n",
      "RangeIndex: 6745 entries, 0 to 6744\n",
      "Data columns (total 9 columns):\n",
      " #   Column             Non-Null Count  Dtype         \n",
      "---  ------             --------------  -----         \n",
      " 0   Request id         6745 non-null   int64         \n",
      " 1   Pickup point       6745 non-null   object        \n",
      " 2   Driver id          4095 non-null   float64       \n",
      " 3   Status             6745 non-null   object        \n",
      " 4   Request timestamp  2674 non-null   datetime64[ns]\n",
      " 5   Drop timestamp     1150 non-null   datetime64[ns]\n",
      " 6   Date               2674 non-null   object        \n",
      " 7   Request Time       2674 non-null   object        \n",
      " 8   Drop Time          1150 non-null   object        \n",
      "dtypes: datetime64[ns](2), float64(1), int64(1), object(5)\n",
      "memory usage: 474.4+ KB\n"
     ]
    }
   ],
   "source": [
    "df.info()"
   ]
  },
  {
   "cell_type": "code",
   "execution_count": 17,
   "id": "b545813a-f867-4bd4-b1e6-46128419763b",
   "metadata": {},
   "outputs": [],
   "source": [
    "# Calculate Trip Duration as a string (HH:MM:SS)\n",
    "df['Trip Duration'] = df['Drop timestamp'] - df['Request timestamp']\n",
    "df['Trip Duration'] = df['Trip Duration'].astype(str)\n"
   ]
  },
  {
   "cell_type": "code",
   "execution_count": 18,
   "id": "528905a4-f6aa-4fef-9a45-928c364aa41e",
   "metadata": {},
   "outputs": [
    {
     "name": "stdout",
     "output_type": "stream",
     "text": [
      "<class 'pandas.core.frame.DataFrame'>\n",
      "RangeIndex: 6745 entries, 0 to 6744\n",
      "Data columns (total 10 columns):\n",
      " #   Column             Non-Null Count  Dtype         \n",
      "---  ------             --------------  -----         \n",
      " 0   Request id         6745 non-null   int64         \n",
      " 1   Pickup point       6745 non-null   object        \n",
      " 2   Driver id          4095 non-null   float64       \n",
      " 3   Status             6745 non-null   object        \n",
      " 4   Request timestamp  2674 non-null   datetime64[ns]\n",
      " 5   Drop timestamp     1150 non-null   datetime64[ns]\n",
      " 6   Date               2674 non-null   object        \n",
      " 7   Request Time       2674 non-null   object        \n",
      " 8   Drop Time          1150 non-null   object        \n",
      " 9   Trip Duration      6745 non-null   object        \n",
      "dtypes: datetime64[ns](2), float64(1), int64(1), object(6)\n",
      "memory usage: 527.1+ KB\n"
     ]
    }
   ],
   "source": [
    "df.info()"
   ]
  },
  {
   "cell_type": "code",
   "execution_count": 20,
   "id": "cff712d8-ad77-4f81-827a-033cb22b2010",
   "metadata": {},
   "outputs": [
    {
     "name": "stdout",
     "output_type": "stream",
     "text": [
      "<class 'pandas.core.frame.DataFrame'>\n",
      "RangeIndex: 6745 entries, 0 to 6744\n",
      "Data columns (total 11 columns):\n",
      " #   Column             Non-Null Count  Dtype         \n",
      "---  ------             --------------  -----         \n",
      " 0   Request id         6745 non-null   int64         \n",
      " 1   Pickup point       6745 non-null   object        \n",
      " 2   Driver id          4095 non-null   float64       \n",
      " 3   Status             6745 non-null   object        \n",
      " 4   Request timestamp  2674 non-null   datetime64[ns]\n",
      " 5   Drop timestamp     1150 non-null   datetime64[ns]\n",
      " 6   Date               2674 non-null   object        \n",
      " 7   Request Time       2674 non-null   object        \n",
      " 8   Drop Time          1150 non-null   object        \n",
      " 9   Trip Duration      6745 non-null   object        \n",
      " 10  Avg Trip Duration  1150 non-null   float64       \n",
      "dtypes: datetime64[ns](2), float64(2), int64(1), object(6)\n",
      "memory usage: 579.8+ KB\n"
     ]
    }
   ],
   "source": [
    "# Calculate Average Trip Duration in minutes\n",
    "df['Avg Trip Duration'] = (df['Drop timestamp'] - df['Request timestamp']).dt.total_seconds() / 60\n",
    "df.info()"
   ]
  },
  {
   "cell_type": "code",
   "execution_count": 21,
   "id": "4def4d8c-4d4a-4dac-9c1f-33d49f0264d6",
   "metadata": {},
   "outputs": [],
   "source": [
    "def get_time_slot(hour):\n",
    "    if 5 <= hour < 10:\n",
    "        return \"Morning Rush\"\n",
    "    elif 10 <= hour < 17:\n",
    "        return \"Day Time\"\n",
    "    elif 17 <= hour < 21:\n",
    "        return \"Evening Rush\"\n",
    "    elif 21 <= hour <= 23:\n",
    "        return \"Late Evening\"\n",
    "    else:\n",
    "        return \"Late Night\"\n",
    "\n",
    "df['Time Slot'] = df['Request timestamp'].dt.hour.apply(get_time_slot)\n"
   ]
  },
  {
   "cell_type": "code",
   "execution_count": 25,
   "id": "795ebd48-06ec-4c65-8493-c491470c106e",
   "metadata": {},
   "outputs": [
    {
     "data": {
      "text/html": [
       "<div>\n",
       "<style scoped>\n",
       "    .dataframe tbody tr th:only-of-type {\n",
       "        vertical-align: middle;\n",
       "    }\n",
       "\n",
       "    .dataframe tbody tr th {\n",
       "        vertical-align: top;\n",
       "    }\n",
       "\n",
       "    .dataframe thead th {\n",
       "        text-align: right;\n",
       "    }\n",
       "</style>\n",
       "<table border=\"1\" class=\"dataframe\">\n",
       "  <thead>\n",
       "    <tr style=\"text-align: right;\">\n",
       "      <th></th>\n",
       "      <th>Request id</th>\n",
       "      <th>Pickup point</th>\n",
       "      <th>Driver id</th>\n",
       "      <th>Status</th>\n",
       "      <th>Request timestamp</th>\n",
       "      <th>Drop timestamp</th>\n",
       "      <th>Date</th>\n",
       "      <th>Request Time</th>\n",
       "      <th>Drop Time</th>\n",
       "      <th>Trip Duration</th>\n",
       "      <th>Avg Trip Duration</th>\n",
       "      <th>Time Slot</th>\n",
       "    </tr>\n",
       "  </thead>\n",
       "  <tbody>\n",
       "    <tr>\n",
       "      <th>0</th>\n",
       "      <td>619</td>\n",
       "      <td>Airport</td>\n",
       "      <td>1.0</td>\n",
       "      <td>Trip Completed</td>\n",
       "      <td>2016-11-07 11:51:00</td>\n",
       "      <td>2016-11-07 13:00:00</td>\n",
       "      <td>2016-11-07</td>\n",
       "      <td>11:51:00</td>\n",
       "      <td>13:00:00</td>\n",
       "      <td>0 days 01:09:00</td>\n",
       "      <td>69.0</td>\n",
       "      <td>Day Time</td>\n",
       "    </tr>\n",
       "    <tr>\n",
       "      <th>1</th>\n",
       "      <td>867</td>\n",
       "      <td>Airport</td>\n",
       "      <td>1.0</td>\n",
       "      <td>Trip Completed</td>\n",
       "      <td>2016-11-07 17:57:00</td>\n",
       "      <td>2016-11-07 18:47:00</td>\n",
       "      <td>2016-11-07</td>\n",
       "      <td>17:57:00</td>\n",
       "      <td>18:47:00</td>\n",
       "      <td>0 days 00:50:00</td>\n",
       "      <td>50.0</td>\n",
       "      <td>Evening Rush</td>\n",
       "    </tr>\n",
       "    <tr>\n",
       "      <th>2</th>\n",
       "      <td>1807</td>\n",
       "      <td>City</td>\n",
       "      <td>1.0</td>\n",
       "      <td>Trip Completed</td>\n",
       "      <td>2016-12-07 09:17:00</td>\n",
       "      <td>2016-12-07 09:58:00</td>\n",
       "      <td>2016-12-07</td>\n",
       "      <td>09:17:00</td>\n",
       "      <td>09:58:00</td>\n",
       "      <td>0 days 00:41:00</td>\n",
       "      <td>41.0</td>\n",
       "      <td>Morning Rush</td>\n",
       "    </tr>\n",
       "    <tr>\n",
       "      <th>3</th>\n",
       "      <td>2532</td>\n",
       "      <td>Airport</td>\n",
       "      <td>1.0</td>\n",
       "      <td>Trip Completed</td>\n",
       "      <td>2016-12-07 21:08:00</td>\n",
       "      <td>2016-12-07 22:03:00</td>\n",
       "      <td>2016-12-07</td>\n",
       "      <td>21:08:00</td>\n",
       "      <td>22:03:00</td>\n",
       "      <td>0 days 00:55:00</td>\n",
       "      <td>55.0</td>\n",
       "      <td>Late Evening</td>\n",
       "    </tr>\n",
       "    <tr>\n",
       "      <th>9</th>\n",
       "      <td>267</td>\n",
       "      <td>City</td>\n",
       "      <td>2.0</td>\n",
       "      <td>Trip Completed</td>\n",
       "      <td>2016-11-07 06:46:00</td>\n",
       "      <td>2016-11-07 07:25:00</td>\n",
       "      <td>2016-11-07</td>\n",
       "      <td>06:46:00</td>\n",
       "      <td>07:25:00</td>\n",
       "      <td>0 days 00:39:00</td>\n",
       "      <td>39.0</td>\n",
       "      <td>Morning Rush</td>\n",
       "    </tr>\n",
       "  </tbody>\n",
       "</table>\n",
       "</div>"
      ],
      "text/plain": [
       "   Request id Pickup point  Driver id          Status   Request timestamp  \\\n",
       "0         619      Airport        1.0  Trip Completed 2016-11-07 11:51:00   \n",
       "1         867      Airport        1.0  Trip Completed 2016-11-07 17:57:00   \n",
       "2        1807         City        1.0  Trip Completed 2016-12-07 09:17:00   \n",
       "3        2532      Airport        1.0  Trip Completed 2016-12-07 21:08:00   \n",
       "9         267         City        2.0  Trip Completed 2016-11-07 06:46:00   \n",
       "\n",
       "       Drop timestamp        Date Request Time Drop Time    Trip Duration  \\\n",
       "0 2016-11-07 13:00:00  2016-11-07     11:51:00  13:00:00  0 days 01:09:00   \n",
       "1 2016-11-07 18:47:00  2016-11-07     17:57:00  18:47:00  0 days 00:50:00   \n",
       "2 2016-12-07 09:58:00  2016-12-07     09:17:00  09:58:00  0 days 00:41:00   \n",
       "3 2016-12-07 22:03:00  2016-12-07     21:08:00  22:03:00  0 days 00:55:00   \n",
       "9 2016-11-07 07:25:00  2016-11-07     06:46:00  07:25:00  0 days 00:39:00   \n",
       "\n",
       "   Avg Trip Duration     Time Slot  \n",
       "0               69.0      Day Time  \n",
       "1               50.0  Evening Rush  \n",
       "2               41.0  Morning Rush  \n",
       "3               55.0  Late Evening  \n",
       "9               39.0  Morning Rush  "
      ]
     },
     "execution_count": 25,
     "metadata": {},
     "output_type": "execute_result"
    }
   ],
   "source": [
    "df.dropna(subset=['Request timestamp', 'Drop timestamp'], inplace=True)\n",
    "df.head()"
   ]
  },
  {
   "cell_type": "code",
   "execution_count": 26,
   "id": "eb2e594d-af5a-4c23-a7cc-374cbac473bb",
   "metadata": {},
   "outputs": [
    {
     "data": {
      "text/html": [
       "<div>\n",
       "<style scoped>\n",
       "    .dataframe tbody tr th:only-of-type {\n",
       "        vertical-align: middle;\n",
       "    }\n",
       "\n",
       "    .dataframe tbody tr th {\n",
       "        vertical-align: top;\n",
       "    }\n",
       "\n",
       "    .dataframe thead th {\n",
       "        text-align: right;\n",
       "    }\n",
       "</style>\n",
       "<table border=\"1\" class=\"dataframe\">\n",
       "  <thead>\n",
       "    <tr style=\"text-align: right;\">\n",
       "      <th></th>\n",
       "      <th>Request id</th>\n",
       "      <th>Pickup point</th>\n",
       "      <th>Driver id</th>\n",
       "      <th>Status</th>\n",
       "      <th>Request timestamp</th>\n",
       "      <th>Drop timestamp</th>\n",
       "      <th>Date</th>\n",
       "      <th>Request Time</th>\n",
       "      <th>Drop Time</th>\n",
       "      <th>Trip Duration</th>\n",
       "      <th>Avg Trip Duration</th>\n",
       "      <th>Time Slot</th>\n",
       "    </tr>\n",
       "  </thead>\n",
       "  <tbody>\n",
       "    <tr>\n",
       "      <th>2808</th>\n",
       "      <td>1690</td>\n",
       "      <td>Airport</td>\n",
       "      <td>298.0</td>\n",
       "      <td>Trip Completed</td>\n",
       "      <td>2016-12-07 07:52:00</td>\n",
       "      <td>2016-12-07 08:56:00</td>\n",
       "      <td>2016-12-07</td>\n",
       "      <td>07:52:00</td>\n",
       "      <td>08:56:00</td>\n",
       "      <td>0 days 01:04:00</td>\n",
       "      <td>64.0</td>\n",
       "      <td>Morning Rush</td>\n",
       "    </tr>\n",
       "    <tr>\n",
       "      <th>2809</th>\n",
       "      <td>2404</td>\n",
       "      <td>Airport</td>\n",
       "      <td>298.0</td>\n",
       "      <td>Trip Completed</td>\n",
       "      <td>2016-12-07 20:00:00</td>\n",
       "      <td>2016-12-07 20:56:00</td>\n",
       "      <td>2016-12-07</td>\n",
       "      <td>20:00:00</td>\n",
       "      <td>20:56:00</td>\n",
       "      <td>0 days 00:56:00</td>\n",
       "      <td>56.0</td>\n",
       "      <td>Evening Rush</td>\n",
       "    </tr>\n",
       "    <tr>\n",
       "      <th>2819</th>\n",
       "      <td>1244</td>\n",
       "      <td>City</td>\n",
       "      <td>299.0</td>\n",
       "      <td>Trip Completed</td>\n",
       "      <td>2016-11-07 21:38:00</td>\n",
       "      <td>2016-11-07 22:15:00</td>\n",
       "      <td>2016-11-07</td>\n",
       "      <td>21:38:00</td>\n",
       "      <td>22:15:00</td>\n",
       "      <td>0 days 00:37:00</td>\n",
       "      <td>37.0</td>\n",
       "      <td>Late Evening</td>\n",
       "    </tr>\n",
       "    <tr>\n",
       "      <th>2820</th>\n",
       "      <td>2249</td>\n",
       "      <td>City</td>\n",
       "      <td>299.0</td>\n",
       "      <td>Trip Completed</td>\n",
       "      <td>2016-12-07 18:24:00</td>\n",
       "      <td>2016-12-07 19:09:00</td>\n",
       "      <td>2016-12-07</td>\n",
       "      <td>18:24:00</td>\n",
       "      <td>19:09:00</td>\n",
       "      <td>0 days 00:45:00</td>\n",
       "      <td>45.0</td>\n",
       "      <td>Evening Rush</td>\n",
       "    </tr>\n",
       "    <tr>\n",
       "      <th>2826</th>\n",
       "      <td>1315</td>\n",
       "      <td>Airport</td>\n",
       "      <td>300.0</td>\n",
       "      <td>Trip Completed</td>\n",
       "      <td>2016-11-07 22:54:00</td>\n",
       "      <td>2016-11-07 23:35:00</td>\n",
       "      <td>2016-11-07</td>\n",
       "      <td>22:54:00</td>\n",
       "      <td>23:35:00</td>\n",
       "      <td>0 days 00:41:00</td>\n",
       "      <td>41.0</td>\n",
       "      <td>Late Evening</td>\n",
       "    </tr>\n",
       "  </tbody>\n",
       "</table>\n",
       "</div>"
      ],
      "text/plain": [
       "      Request id Pickup point  Driver id          Status   Request timestamp  \\\n",
       "2808        1690      Airport      298.0  Trip Completed 2016-12-07 07:52:00   \n",
       "2809        2404      Airport      298.0  Trip Completed 2016-12-07 20:00:00   \n",
       "2819        1244         City      299.0  Trip Completed 2016-11-07 21:38:00   \n",
       "2820        2249         City      299.0  Trip Completed 2016-12-07 18:24:00   \n",
       "2826        1315      Airport      300.0  Trip Completed 2016-11-07 22:54:00   \n",
       "\n",
       "          Drop timestamp        Date Request Time Drop Time    Trip Duration  \\\n",
       "2808 2016-12-07 08:56:00  2016-12-07     07:52:00  08:56:00  0 days 01:04:00   \n",
       "2809 2016-12-07 20:56:00  2016-12-07     20:00:00  20:56:00  0 days 00:56:00   \n",
       "2819 2016-11-07 22:15:00  2016-11-07     21:38:00  22:15:00  0 days 00:37:00   \n",
       "2820 2016-12-07 19:09:00  2016-12-07     18:24:00  19:09:00  0 days 00:45:00   \n",
       "2826 2016-11-07 23:35:00  2016-11-07     22:54:00  23:35:00  0 days 00:41:00   \n",
       "\n",
       "      Avg Trip Duration     Time Slot  \n",
       "2808               64.0  Morning Rush  \n",
       "2809               56.0  Evening Rush  \n",
       "2819               37.0  Late Evening  \n",
       "2820               45.0  Evening Rush  \n",
       "2826               41.0  Late Evening  "
      ]
     },
     "execution_count": 26,
     "metadata": {},
     "output_type": "execute_result"
    }
   ],
   "source": [
    "df.tail()"
   ]
  },
  {
   "cell_type": "code",
   "execution_count": 27,
   "id": "acb8bdee-bb36-4389-90a6-98429f9e5e55",
   "metadata": {},
   "outputs": [],
   "source": [
    "df.to_csv(\"updated_dataset.csv\", index=False)"
   ]
  },
  {
   "cell_type": "code",
   "execution_count": 28,
   "id": "f841065a-62c7-401e-b86a-0b53a3b612e8",
   "metadata": {},
   "outputs": [],
   "source": [
    "df = pd.read_csv(\"updated_dataset.csv\", parse_dates=['Request timestamp', 'Drop timestamp'])"
   ]
  },
  {
   "cell_type": "code",
   "execution_count": 29,
   "id": "2c861528-a115-41ba-bb05-7ee699d3604f",
   "metadata": {},
   "outputs": [
    {
     "name": "stdout",
     "output_type": "stream",
     "text": [
      "datetime64[ns]\n"
     ]
    }
   ],
   "source": [
    "print(df['Request timestamp'].dtype)"
   ]
  },
  {
   "cell_type": "code",
   "execution_count": 30,
   "id": "9de756be-f76d-4b72-b86d-711f3739c308",
   "metadata": {},
   "outputs": [],
   "source": [
    "df['Request timestamp'] = pd.to_datetime(df['Request timestamp'], errors='coerce')"
   ]
  },
  {
   "cell_type": "code",
   "execution_count": 31,
   "id": "053ace49-b79f-43d9-b3e8-869b6325b83a",
   "metadata": {},
   "outputs": [
    {
     "data": {
      "text/html": [
       "<div>\n",
       "<style scoped>\n",
       "    .dataframe tbody tr th:only-of-type {\n",
       "        vertical-align: middle;\n",
       "    }\n",
       "\n",
       "    .dataframe tbody tr th {\n",
       "        vertical-align: top;\n",
       "    }\n",
       "\n",
       "    .dataframe thead th {\n",
       "        text-align: right;\n",
       "    }\n",
       "</style>\n",
       "<table border=\"1\" class=\"dataframe\">\n",
       "  <thead>\n",
       "    <tr style=\"text-align: right;\">\n",
       "      <th></th>\n",
       "      <th>Request id</th>\n",
       "      <th>Pickup point</th>\n",
       "      <th>Driver id</th>\n",
       "      <th>Status</th>\n",
       "      <th>Request timestamp</th>\n",
       "      <th>Drop timestamp</th>\n",
       "      <th>Date</th>\n",
       "      <th>Request Time</th>\n",
       "      <th>Drop Time</th>\n",
       "      <th>Trip Duration</th>\n",
       "      <th>Avg Trip Duration</th>\n",
       "      <th>Time Slot</th>\n",
       "    </tr>\n",
       "  </thead>\n",
       "  <tbody>\n",
       "    <tr>\n",
       "      <th>0</th>\n",
       "      <td>619</td>\n",
       "      <td>Airport</td>\n",
       "      <td>1.0</td>\n",
       "      <td>Trip Completed</td>\n",
       "      <td>2016-11-07 11:51:00</td>\n",
       "      <td>2016-11-07 13:00:00</td>\n",
       "      <td>2016-11-07</td>\n",
       "      <td>11:51:00</td>\n",
       "      <td>13:00:00</td>\n",
       "      <td>0 days 01:09:00</td>\n",
       "      <td>69.0</td>\n",
       "      <td>Day Time</td>\n",
       "    </tr>\n",
       "    <tr>\n",
       "      <th>1</th>\n",
       "      <td>867</td>\n",
       "      <td>Airport</td>\n",
       "      <td>1.0</td>\n",
       "      <td>Trip Completed</td>\n",
       "      <td>2016-11-07 17:57:00</td>\n",
       "      <td>2016-11-07 18:47:00</td>\n",
       "      <td>2016-11-07</td>\n",
       "      <td>17:57:00</td>\n",
       "      <td>18:47:00</td>\n",
       "      <td>0 days 00:50:00</td>\n",
       "      <td>50.0</td>\n",
       "      <td>Evening Rush</td>\n",
       "    </tr>\n",
       "    <tr>\n",
       "      <th>2</th>\n",
       "      <td>1807</td>\n",
       "      <td>City</td>\n",
       "      <td>1.0</td>\n",
       "      <td>Trip Completed</td>\n",
       "      <td>2016-12-07 09:17:00</td>\n",
       "      <td>2016-12-07 09:58:00</td>\n",
       "      <td>2016-12-07</td>\n",
       "      <td>09:17:00</td>\n",
       "      <td>09:58:00</td>\n",
       "      <td>0 days 00:41:00</td>\n",
       "      <td>41.0</td>\n",
       "      <td>Morning Rush</td>\n",
       "    </tr>\n",
       "    <tr>\n",
       "      <th>3</th>\n",
       "      <td>2532</td>\n",
       "      <td>Airport</td>\n",
       "      <td>1.0</td>\n",
       "      <td>Trip Completed</td>\n",
       "      <td>2016-12-07 21:08:00</td>\n",
       "      <td>2016-12-07 22:03:00</td>\n",
       "      <td>2016-12-07</td>\n",
       "      <td>21:08:00</td>\n",
       "      <td>22:03:00</td>\n",
       "      <td>0 days 00:55:00</td>\n",
       "      <td>55.0</td>\n",
       "      <td>Late Evening</td>\n",
       "    </tr>\n",
       "    <tr>\n",
       "      <th>4</th>\n",
       "      <td>267</td>\n",
       "      <td>City</td>\n",
       "      <td>2.0</td>\n",
       "      <td>Trip Completed</td>\n",
       "      <td>2016-11-07 06:46:00</td>\n",
       "      <td>2016-11-07 07:25:00</td>\n",
       "      <td>2016-11-07</td>\n",
       "      <td>06:46:00</td>\n",
       "      <td>07:25:00</td>\n",
       "      <td>0 days 00:39:00</td>\n",
       "      <td>39.0</td>\n",
       "      <td>Morning Rush</td>\n",
       "    </tr>\n",
       "  </tbody>\n",
       "</table>\n",
       "</div>"
      ],
      "text/plain": [
       "   Request id Pickup point  Driver id          Status   Request timestamp  \\\n",
       "0         619      Airport        1.0  Trip Completed 2016-11-07 11:51:00   \n",
       "1         867      Airport        1.0  Trip Completed 2016-11-07 17:57:00   \n",
       "2        1807         City        1.0  Trip Completed 2016-12-07 09:17:00   \n",
       "3        2532      Airport        1.0  Trip Completed 2016-12-07 21:08:00   \n",
       "4         267         City        2.0  Trip Completed 2016-11-07 06:46:00   \n",
       "\n",
       "       Drop timestamp        Date Request Time Drop Time    Trip Duration  \\\n",
       "0 2016-11-07 13:00:00  2016-11-07     11:51:00  13:00:00  0 days 01:09:00   \n",
       "1 2016-11-07 18:47:00  2016-11-07     17:57:00  18:47:00  0 days 00:50:00   \n",
       "2 2016-12-07 09:58:00  2016-12-07     09:17:00  09:58:00  0 days 00:41:00   \n",
       "3 2016-12-07 22:03:00  2016-12-07     21:08:00  22:03:00  0 days 00:55:00   \n",
       "4 2016-11-07 07:25:00  2016-11-07     06:46:00  07:25:00  0 days 00:39:00   \n",
       "\n",
       "   Avg Trip Duration     Time Slot  \n",
       "0               69.0      Day Time  \n",
       "1               50.0  Evening Rush  \n",
       "2               41.0  Morning Rush  \n",
       "3               55.0  Late Evening  \n",
       "4               39.0  Morning Rush  "
      ]
     },
     "execution_count": 31,
     "metadata": {},
     "output_type": "execute_result"
    }
   ],
   "source": [
    "df.head()"
   ]
  },
  {
   "cell_type": "code",
   "execution_count": 32,
   "id": "7c31c371-7754-438a-8ab8-4d03f5aeef80",
   "metadata": {},
   "outputs": [],
   "source": [
    "df.to_csv(\"cleaned_data1.csv\", index=False, date_format='%Y-%m-%d %H:%M:%S')"
   ]
  }
 ],
 "metadata": {
  "kernelspec": {
   "display_name": "Python 3 (ipykernel)",
   "language": "python",
   "name": "python3"
  },
  "language_info": {
   "codemirror_mode": {
    "name": "ipython",
    "version": 3
   },
   "file_extension": ".py",
   "mimetype": "text/x-python",
   "name": "python",
   "nbconvert_exporter": "python",
   "pygments_lexer": "ipython3",
   "version": "3.12.7"
  }
 },
 "nbformat": 4,
 "nbformat_minor": 5
}
