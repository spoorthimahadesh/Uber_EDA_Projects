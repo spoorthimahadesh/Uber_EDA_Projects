{
 "cells": [
  {
   "cell_type": "code",
   "execution_count": 1,
   "id": "a38c2b90-8b58-4646-afd9-4bae550323d0",
   "metadata": {},
   "outputs": [
    {
     "ename": "SyntaxError",
     "evalue": "invalid syntax (2350072576.py, line 1)",
     "output_type": "error",
     "traceback": [
      "\u001b[1;36m  Cell \u001b[1;32mIn[1], line 1\u001b[1;36m\u001b[0m\n\u001b[1;33m    CREATE TABLE uber_requests3 (\u001b[0m\n\u001b[1;37m           ^\u001b[0m\n\u001b[1;31mSyntaxError\u001b[0m\u001b[1;31m:\u001b[0m invalid syntax\n"
     ]
    }
   ],
   "source": [
    "CREATE TABLE uber_requests3 (\n",
    "    request_id SERIAL PRIMARY KEY,\n",
    "\tpickup_point VARCHAR(50),\n",
    "\tstatus VARCHAR(30),\n",
    "    request_timestamp TIMESTAMP,\n",
    "    drop_timestamp TIMESTAMP\n",
    ");\n",
    "\n",
    "SELECT * FROM uber_requests3 LIMIT 10;\n",
    "\n",
    "\n",
    "SELECT * FROM uber_requests3 LIMIT 6000;\n",
    "\n",
    "SELECT column_name, data_type\n",
    "FROM information_schema.columns\n",
    "WHERE table_name = 'uber_requests3';\n",
    "\n",
    "SELECT COUNT(*) FROM uber_requests3;\n",
    "\n",
    "SELECT DISTINCT status FROM uber_requests3;\n",
    "\n",
    "SELECT status, COUNT(*) AS total_requests\n",
    "FROM uber_requests3\n",
    "GROUP BY status;\n",
    "\n",
    "SELECT EXTRACT(HOUR FROM request_timestamp) AS Hour,\n",
    "       COUNT(*) AS number_requests\n",
    "FROM uber_requests3\n",
    "GROUP BY hour\n",
    "ORDER BY hour;\n",
    "\n",
    "SELECT request_id, \n",
    "       EXTRACT(EPOCH FROM (drop_timestamp - request_timestamp))/60 AS duration_minutes\n",
    "FROM uber_requests3\n",
    "WHERE status = 'Trip Completed';\n"
   ]
  },
  {
   "cell_type": "code",
   "execution_count": null,
   "id": "8c5a9e6d-576d-4631-a5f3-df1c64fc923a",
   "metadata": {},
   "outputs": [],
   "source": []
  }
 ],
 "metadata": {
  "kernelspec": {
   "display_name": "Python 3 (ipykernel)",
   "language": "python",
   "name": "python3"
  },
  "language_info": {
   "codemirror_mode": {
    "name": "ipython",
    "version": 3
   },
   "file_extension": ".py",
   "mimetype": "text/x-python",
   "name": "python",
   "nbconvert_exporter": "python",
   "pygments_lexer": "ipython3",
   "version": "3.12.7"
  }
 },
 "nbformat": 4,
 "nbformat_minor": 5
}
